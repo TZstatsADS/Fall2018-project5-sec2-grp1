{
 "cells": [
  {
   "cell_type": "code",
   "execution_count": 1,
   "metadata": {
    "collapsed": true
   },
   "outputs": [],
   "source": [
    "#Import packages\n",
    "import collections\n",
    "import numpy as np\n",
    "import itertools\n",
    "import os\n",
    "import shutil\n",
    "import glob\n",
    "import csv\n",
    "import pandas as pd"
   ]
  },
  {
   "cell_type": "code",
   "execution_count": 5,
   "metadata": {},
   "outputs": [
    {
     "data": {
      "text/plain": [
       "(191027, 6)"
      ]
     },
     "execution_count": 5,
     "metadata": {},
     "output_type": "execute_result"
    }
   ],
   "source": [
    "def clean(words):\n",
    "    out = []\n",
    "    for c in words:\n",
    "        c = c.lower()\n",
    "        if c in set('abcdefghijklmnopqrstuvwxyz '):\n",
    "            out.append(c)\n",
    "    return ''.join(out)\n",
    "\n",
    "#Construct sliding window\n",
    "wordlist=[]\n",
    "for path in glob.glob(os.path.join(os.getcwd(),'train_error','*.txt')):\n",
    "    with open(path, encoding=\"utf8\") as file:\n",
    "        for line in file:\n",
    "            line=clean(line)\n",
    "            for words in line.split():\n",
    "                wordlist.append(words)       \n",
    "#sliding window   \n",
    "sliding_list=[]       \n",
    "for i in range(2,len(wordlist)-2,1):\n",
    "    sliding_list.append(wordlist[i-2:i+3])\n",
    "\n",
    "flat_list=[]\n",
    "for sublist in sliding_list:\n",
    "    for item in sublist:\n",
    "        flat_list.append(item)\n",
    "df = pd.DataFrame(np.array(flat_list).reshape(len(sliding_list),5), columns = list(\"abcde\"))\n",
    "df[\"tess\"]=df[\"c\"]\n",
    "df.shape"
   ]
  },
  {
   "cell_type": "code",
   "execution_count": 3,
   "metadata": {
    "collapsed": true
   },
   "outputs": [],
   "source": [
    "#Generate error & truth one-to-one matching dataframe\n",
    "list_a=[]\n",
    "list_b=[] \n",
    "equal=[]\n",
    "combine=pd.DataFrame()\n",
    "for path1,path2 in zip(glob.glob(os.path.join(os.getcwd(),'train_error','*.txt')),glob.glob(os.path.join(os.getcwd(),'train_truth','*.txt'))):\n",
    "    with open(path1, encoding=\"utf8\") as file1:\n",
    "        with open(path2, encoding=\"utf8\") as file2:\n",
    "            for line1,line2 in zip(file1,file2):\n",
    "                line1=clean(line1)\n",
    "                line2=clean(line2)\n",
    "                if len(line1.split())==len(line2.split()):\n",
    "                    equal.append(1)\n",
    "                    for word1,word2 in zip(line1.split(),line2.split()): \n",
    "                        list_a.append(word1)\n",
    "                        list_b.append(word2)\n",
    "                else:\n",
    "                    equal.append(0)\n",
    "                    add=list(np.repeat(\"Truuuuuuuuuuue\",len(line1.split())))\n",
    "                    list_a=list_a+add\n",
    "                    list_b=list_b+add\n",
    "list_b=list_b[2:]\n",
    "list_b=list_b[:len(list_b)-2]\n",
    "df[\"Truth\"]=list_b\n",
    "df = df[df.Truth != \"Truuuuuuuuuuue\"]"
   ]
  },
  {
   "cell_type": "code",
   "execution_count": 4,
   "metadata": {
    "collapsed": true
   },
   "outputs": [],
   "source": [
    "##Detecting error terms\n",
    "#Combine all train_set files\n",
    "read_files = glob.glob(os.path.join(os.getcwd(), 'train_truth', \"*.txt\"))\n",
    "with open(\"train_truth.txt\", \"wb\") as outfile:\n",
    "    for f in read_files:\n",
    "        with open(f, \"rb\") as infile:\n",
    "            outfile.write(infile.read())\n",
    "#Find error terms\n",
    "file_truth=[]          \n",
    "with open('train_truth.txt', encoding=\"utf8\") as file1: \n",
    "    for line in file1:\n",
    "        for words in line.split():\n",
    "            file_truth.append(words)\n",
    "\n",
    "detect_list=[]\n",
    "my_list = df[\"tess\"].values\n",
    "for i in range(len(my_list)):\n",
    "    if my_list[i] in file_truth:\n",
    "        detect_list.append(\"1\")\n",
    "    else:\n",
    "        detect_list.append(\"0\")\n",
    "        \n",
    "se = pd.Series(detect_list)\n",
    "df['delete'] = se.values\n",
    "#Write out\n",
    "df = df[df.delete != \"1\"]\n",
    "writer = pd.ExcelWriter('Detection_clean_test.xlsx')\n",
    "df.to_excel(writer,'Sheet1')\n",
    "writer.save()"
   ]
  }
 ],
 "metadata": {
  "kernelspec": {
   "display_name": "Python 3",
   "language": "python",
   "name": "python3"
  },
  "language_info": {
   "codemirror_mode": {
    "name": "ipython",
    "version": 3
   },
   "file_extension": ".py",
   "mimetype": "text/x-python",
   "name": "python",
   "nbconvert_exporter": "python",
   "pygments_lexer": "ipython3",
   "version": "3.6.3"
  }
 },
 "nbformat": 4,
 "nbformat_minor": 2
}
